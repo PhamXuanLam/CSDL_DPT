{
 "cells": [
  {
   "cell_type": "code",
   "execution_count": 3,
   "metadata": {},
   "outputs": [],
   "source": [
    "import librosa\n",
    "from utils.pre_process_data import *\n",
    "from utils.k_nearest_neighbor import *"
   ]
  },
  {
   "cell_type": "code",
   "execution_count": 2,
   "metadata": {},
   "outputs": [
    {
     "name": "stderr",
     "output_type": "stream",
     "text": [
      "c:\\Users\\JAVIS\\Desktop\\WorkSpace\\Data_Science_WorkSpace\\handle-sound\\.venv\\lib\\site-packages\\librosa\\core\\spectrum.py:266: UserWarning: n_fft=2048 is too large for input signal of length=132\n",
      "  warnings.warn(\n",
      "c:\\Users\\JAVIS\\Desktop\\WorkSpace\\Data_Science_WorkSpace\\handle-sound\\.venv\\lib\\site-packages\\librosa\\core\\spectrum.py:266: UserWarning: n_fft=2048 is too large for input signal of length=420\n",
      "  warnings.warn(\n",
      "c:\\Users\\JAVIS\\Desktop\\WorkSpace\\Data_Science_WorkSpace\\handle-sound\\.venv\\lib\\site-packages\\librosa\\core\\spectrum.py:266: UserWarning: n_fft=2048 is too large for input signal of length=1853\n",
      "  warnings.warn(\n",
      "c:\\Users\\JAVIS\\Desktop\\WorkSpace\\Data_Science_WorkSpace\\handle-sound\\.venv\\lib\\site-packages\\librosa\\core\\spectrum.py:266: UserWarning: n_fft=2048 is too large for input signal of length=706\n",
      "  warnings.warn(\n",
      "c:\\Users\\JAVIS\\Desktop\\WorkSpace\\Data_Science_WorkSpace\\handle-sound\\.venv\\lib\\site-packages\\librosa\\core\\spectrum.py:266: UserWarning: n_fft=2048 is too large for input signal of length=1764\n",
      "  warnings.warn(\n",
      "c:\\Users\\JAVIS\\Desktop\\WorkSpace\\Data_Science_WorkSpace\\handle-sound\\.venv\\lib\\site-packages\\librosa\\core\\spectrum.py:266: UserWarning: n_fft=2048 is too large for input signal of length=1323\n",
      "  warnings.warn(\n",
      "c:\\Users\\JAVIS\\Desktop\\WorkSpace\\Data_Science_WorkSpace\\handle-sound\\.venv\\lib\\site-packages\\librosa\\core\\spectrum.py:266: UserWarning: n_fft=2048 is too large for input signal of length=265\n",
      "  warnings.warn(\n",
      "c:\\Users\\JAVIS\\Desktop\\WorkSpace\\Data_Science_WorkSpace\\handle-sound\\.venv\\lib\\site-packages\\librosa\\core\\spectrum.py:266: UserWarning: n_fft=2048 is too large for input signal of length=794\n",
      "  warnings.warn(\n",
      "c:\\Users\\JAVIS\\Desktop\\WorkSpace\\Data_Science_WorkSpace\\handle-sound\\utils\\pre_process_data.py:52: RuntimeWarning: divide by zero encountered in log10\n",
      "  loudness = 20 * np.log10(rms_amplitude)\n"
     ]
    }
   ],
   "source": [
    "# Run when you want to save the audio features to a csv file\n",
    "\n",
    "# audio_dataset = \"data/train\"\n",
    "# save_audio_features_to_csv(audio_dataset)\n"
   ]
  },
  {
   "cell_type": "code",
   "execution_count": 4,
   "metadata": {},
   "outputs": [
    {
     "name": "stdout",
     "output_type": "stream",
     "text": [
      "Number of segments:  21\n"
     ]
    },
    {
     "name": "stderr",
     "output_type": "stream",
     "text": [
      "c:\\Users\\Admin\\AppData\\Local\\Programs\\Python\\Python39\\lib\\site-packages\\librosa\\core\\spectrum.py:266: UserWarning: n_fft=2048 is too large for input signal of length=1764\n",
      "  warnings.warn(\n"
     ]
    }
   ],
   "source": [
    "audio_file = \"data/train/Clarinet3.mp3\"\n",
    "segments, sr = split_audio(audio_file)\n",
    "\n",
    "print(\"Number of segments: \", len(segments))\n",
    "\n",
    "amplitude_list = []\n",
    "pitch_list = []\n",
    "loudness_list = []\n",
    "silent_ratio_list = []\n",
    "zero_crossing_rate_list = []\n",
    "\n",
    "features_list = {}\n",
    "\n",
    "for segment in segments:\n",
    "    amplitude = calculate_average_amplitude(segment)\n",
    "    pitch = calculate_pitch(segment, sr)\n",
    "    loudness = calculate_loudness(segment)\n",
    "    silent_ratio = calculate_silent_ratio(segment)\n",
    "    zero_crossing_rate = calculate_zero_crossing_rate(segment)\n",
    "    amplitude_list.append(amplitude)\n",
    "    pitch_list.append(pitch)\n",
    "    loudness_list.append(loudness)\n",
    "    silent_ratio_list.append(silent_ratio)\n",
    "    zero_crossing_rate_list.append(zero_crossing_rate)\n",
    "\n",
    "# Gán các danh sách đặc trưng vào features_list\n",
    "features_list[\"Amplitudes\"] = amplitude_list\n",
    "features_list[\"Pitches\"] = pitch_list\n",
    "features_list[\"Loudness\"] = loudness_list\n",
    "features_list[\"Zero_Crossing_Rate\"] = zero_crossing_rate_list\n",
    "features_list[\"Silent_Ratios\"] = silent_ratio_list\n"
   ]
  },
  {
   "cell_type": "code",
   "execution_count": 5,
   "metadata": {},
   "outputs": [
    {
     "name": "stdout",
     "output_type": "stream",
     "text": [
      "data/train\\Alto Flute 1.mp3\n"
     ]
    }
   ],
   "source": [
    "audio_features_dataset = read_features_from_csv(\"audio_features.csv\")\n",
    "print(audio_features_dataset[0]['Audio_File'])"
   ]
  },
  {
   "cell_type": "code",
   "execution_count": 6,
   "metadata": {},
   "outputs": [
    {
     "name": "stdout",
     "output_type": "stream",
     "text": [
      "['data/train\\\\Clarinet3.mp3', 'data/train\\\\Ney 3.mp3', 'data/train\\\\Clarinet2.mp3', 'data/train\\\\Tenor recorder 7.mp3', 'data/train\\\\Clarinet4.mp3']\n"
     ]
    }
   ],
   "source": [
    "nearest_neighbors = find_nearest_neighbors(features_list, audio_features_dataset)\n",
    "print(nearest_neighbors)"
   ]
  }
 ],
 "metadata": {
  "kernelspec": {
   "display_name": ".venv",
   "language": "python",
   "name": "python3"
  },
  "language_info": {
   "codemirror_mode": {
    "name": "ipython",
    "version": 3
   },
   "file_extension": ".py",
   "mimetype": "text/x-python",
   "name": "python",
   "nbconvert_exporter": "python",
   "pygments_lexer": "ipython3",
   "version": "3.9.10"
  }
 },
 "nbformat": 4,
 "nbformat_minor": 2
}
